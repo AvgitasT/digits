{
 "cells": [
  {
   "cell_type": "code",
   "execution_count": 24,
   "metadata": {},
   "outputs": [
    {
     "data": {
      "text/plain": [
       "['aeik']"
      ]
     },
     "execution_count": 24,
     "metadata": {},
     "output_type": "execute_result"
    }
   ],
   "source": [
    "def func_find_digit_words(digits,dict_keys,lexicon):\n",
    "    num_of_digits=len(digits)\n",
    "    list_of_word_cands=[]\n",
    "    for i in range(3):\n",
    "        candidate_word=''\n",
    "        for j in range(3):\n",
    "            for k in range(3):\n",
    "                for l in range(3):\n",
    "                    candidate_word=dict_keys[digits[0]][i]+dict_keys[digits[1]][j]+dict_keys[digits[2]][k]+dict_keys[digits[3]][l]\n",
    "                    if len(candidate_word)==num_of_digits:\n",
    "                        if (candidate_word) in lexicon:\n",
    "                           list_of_word_cands.append(candidate_word)\n",
    "                            #return candidate_word\n",
    "    \n",
    "    if len(list_of_word_cands)>0:\n",
    "        return list_of_word_cands\n",
    "    else:\n",
    "        return 'None'\n",
    "    \n",
    "    \n",
    "    \n",
    "digits='1234'\n",
    "dict_keys={'1':['a','b','c'],'2':['d','e','f'],'3':['g','h','i'],'4':['j','k','l'],'5':['m','n','o']}\n",
    "lexicon=['aeik','asds','dsff']\n",
    "func_find_digit_words(digits,dict_keys,lexicon)"
   ]
  },
  {
   "cell_type": "code",
   "execution_count": null,
   "metadata": {},
   "outputs": [],
   "source": []
  }
 ],
 "metadata": {
  "kernelspec": {
   "display_name": "Python 3",
   "language": "python",
   "name": "python3"
  },
  "language_info": {
   "codemirror_mode": {
    "name": "ipython",
    "version": 3
   },
   "file_extension": ".py",
   "mimetype": "text/x-python",
   "name": "python",
   "nbconvert_exporter": "python",
   "pygments_lexer": "ipython3",
   "version": "3.7.3"
  }
 },
 "nbformat": 4,
 "nbformat_minor": 2
}
